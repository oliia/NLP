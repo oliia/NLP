{
  "nbformat": 4,
  "nbformat_minor": 0,
  "metadata": {
    "colab": {
      "name": "reformer_pytorch",
      "provenance": [],
      "collapsed_sections": [],
      "include_colab_link": true
    },
    "kernelspec": {
      "name": "python3",
      "display_name": "Python 3"
    },
    "accelerator": "GPU"
  },
  "cells": [
    {
      "cell_type": "markdown",
      "metadata": {
        "id": "view-in-github",
        "colab_type": "text"
      },
      "source": [
        "<a href=\"https://colab.research.google.com/github/oliia/NLP/blob/master/reformer_pytorch.ipynb\" target=\"_parent\"><img src=\"https://colab.research.google.com/assets/colab-badge.svg\" alt=\"Open In Colab\"/></a>"
      ]
    },
    {
      "cell_type": "code",
      "metadata": {
        "id": "SAVW-nGThSmG",
        "colab": {
          "base_uri": "https://localhost:8080/",
          "height": 514
        },
        "outputId": "79e9677a-1dcc-40a7-c297-c5f369e8edac"
      },
      "source": [
        "!nvidia-smi\n",
        "!pip install reformer_pytorch --upgrade"
      ],
      "execution_count": null,
      "outputs": [
        {
          "output_type": "stream",
          "text": [
            "Tue Mar  3 06:21:33 2020       \n",
            "+-----------------------------------------------------------------------------+\n",
            "| NVIDIA-SMI 440.48.02    Driver Version: 418.67       CUDA Version: 10.1     |\n",
            "|-------------------------------+----------------------+----------------------+\n",
            "| GPU  Name        Persistence-M| Bus-Id        Disp.A | Volatile Uncorr. ECC |\n",
            "| Fan  Temp  Perf  Pwr:Usage/Cap|         Memory-Usage | GPU-Util  Compute M. |\n",
            "|===============================+======================+======================|\n",
            "|   0  Tesla P100-PCIE...  Off  | 00000000:00:04.0 Off |                    0 |\n",
            "| N/A   35C    P0    27W / 250W |      0MiB / 16280MiB |      0%      Default |\n",
            "+-------------------------------+----------------------+----------------------+\n",
            "                                                                               \n",
            "+-----------------------------------------------------------------------------+\n",
            "| Processes:                                                       GPU Memory |\n",
            "|  GPU       PID   Type   Process name                             Usage      |\n",
            "|=============================================================================|\n",
            "|  No running processes found                                                 |\n",
            "+-----------------------------------------------------------------------------+\n",
            "Collecting reformer_pytorch\n",
            "  Downloading https://files.pythonhosted.org/packages/ff/7a/03651ae1f0f241c4f4e2bf8e17b8ae78f02f99ad280969a894ba8fd14bd1/reformer_pytorch-0.14.0.tar.gz\n",
            "Requirement already satisfied, skipping upgrade: torch in /usr/local/lib/python3.6/dist-packages (from reformer_pytorch) (1.4.0)\n",
            "Building wheels for collected packages: reformer-pytorch\n",
            "  Building wheel for reformer-pytorch (setup.py) ... \u001b[?25l\u001b[?25hdone\n",
            "  Created wheel for reformer-pytorch: filename=reformer_pytorch-0.14.0-cp36-none-any.whl size=12487 sha256=4de3182ff0e173e5f51802465438053afea490e09d52adfffae1553c804c42d0\n",
            "  Stored in directory: /root/.cache/pip/wheels/cf/e7/22/2a343aced47ccb92ef903d8e57858152e77b54d033823a2186\n",
            "Successfully built reformer-pytorch\n",
            "Installing collected packages: reformer-pytorch\n",
            "Successfully installed reformer-pytorch-0.14.0\n"
          ],
          "name": "stdout"
        }
      ]
    },
    {
      "cell_type": "code",
      "metadata": {
        "id": "asLnnhAmcsSZ"
      },
      "source": [
        "import torch\n",
        "from reformer_pytorch import ReformerLM\n",
        "\n",
        "seq_len = 32768\n",
        "\n",
        "model = ReformerLM(\n",
        "    num_tokens= 20000,\n",
        "    dim = 512,\n",
        "    depth = 12,\n",
        "    max_seq_len = seq_len,\n",
        "    heads = 8,\n",
        "    lsh_dropout = 0.1,\n",
        "    causal = True,        # auto-regressive or not\n",
        "    bucket_size = 64,     # average size of qk per bucket, 64 was recommended in paper\n",
        "    n_hashes = 4,         # 4 is permissible per author, 8 is the best but slower\n",
        "    ff_chunks = 100,      # number of chunks for feedforward layer, make higher if there are memory issues\n",
        "    weight_tie = False,   # tie parameters of each layer for no memory per additional depth\n",
        "    attn_chunks = 8,        # process lsh attention in chunks, only way for memory to fit when scaling to 16k tokens\n",
        "    use_full_attn = False   # use full self attention, for comparison\n",
        ").cuda()\n",
        "\n",
        "x = torch.randint(0, 20000, (1, seq_len)).long().cuda()\n",
        "y = model(x)\n",
        "y.sum().backward()"
      ],
      "execution_count": null,
      "outputs": []
    }
  ]
}